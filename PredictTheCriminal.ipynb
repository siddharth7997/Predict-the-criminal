{
 "cells": [
  {
   "cell_type": "code",
   "execution_count": 116,
   "metadata": {
    "collapsed": true
   },
   "outputs": [],
   "source": [
    "import pandas\n",
    "import numpy\n",
    "import matplotlib.pyplot as plt"
   ]
  },
  {
   "cell_type": "code",
   "execution_count": 117,
   "metadata": {
    "collapsed": false
   },
   "outputs": [],
   "source": [
    "df=pandas.read_csv('criminal_train_pre.csv')\n",
    "df=df.dropna()"
   ]
  },
  {
   "cell_type": "code",
   "execution_count": 118,
   "metadata": {
    "collapsed": false
   },
   "outputs": [
    {
     "name": "stdout",
     "output_type": "stream",
     "text": [
      "       IFATHER  NRCH17_2  IRHHSIZ2  IIHHSIZ2  IRKI17_2  IIKI17_2  IRHH65_2  \\\n",
      "0          4.0       2.0       4.0       1.0       3.0       1.0       1.0   \n",
      "1          4.0       1.0       3.0       1.0       2.0       1.0       1.0   \n",
      "2          4.0       1.0       2.0       1.0       2.0       1.0       1.0   \n",
      "3          4.0       0.0       2.0       1.0       1.0       1.0       1.0   \n",
      "4          1.0       0.0       6.0       1.0       4.0       1.0       1.0   \n",
      "5          4.0       0.0       2.0       1.0       1.0       1.0       1.0   \n",
      "6          4.0       3.0       6.0       1.0       4.0       1.0       1.0   \n",
      "7          4.0       2.0       4.0       1.0       3.0       1.0       1.0   \n",
      "8          4.0       1.0       3.0       1.0       2.0       1.0       1.0   \n",
      "9          4.0       0.0       1.0       1.0       1.0       1.0       2.0   \n",
      "10         4.0       0.0       1.0       1.0       1.0       1.0       1.0   \n",
      "11         4.0       0.0       4.0       1.0       3.0       1.0       1.0   \n",
      "12         4.0       0.0       2.0       1.0       1.0       1.0       2.0   \n",
      "13         1.0       0.0       3.0       1.0       2.0       1.0       1.0   \n",
      "14         1.0       0.0       5.0       1.0       4.0       1.0       1.0   \n",
      "15         4.0       3.0       5.0       1.0       4.0       1.0       1.0   \n",
      "16         4.0       0.0       2.0       1.0       1.0       1.0       1.0   \n",
      "17         4.0       2.0       4.0       1.0       3.0       1.0       1.0   \n",
      "18         4.0       2.0       3.0       1.0       3.0       1.0       1.0   \n",
      "19         1.0       0.0       4.0       1.0       3.0       1.0       1.0   \n",
      "20         1.0       0.0       4.0       1.0       3.0       1.0       1.0   \n",
      "21         4.0       1.0       3.0       1.0       2.0       1.0       1.0   \n",
      "22         1.0       0.0       5.0       1.0       3.0       1.0       2.0   \n",
      "23         4.0       0.0       2.0       1.0       1.0       1.0       3.0   \n",
      "24         1.0       0.0       6.0       1.0       4.0       1.0       1.0   \n",
      "25         4.0       0.0       4.0       1.0       2.0       1.0       1.0   \n",
      "26         4.0       0.0       3.0       1.0       2.0       3.0       1.0   \n",
      "27         4.0       0.0       1.0       1.0       1.0       1.0       1.0   \n",
      "28         4.0       0.0       3.0       1.0       1.0       1.0       1.0   \n",
      "29         1.0       0.0       4.0       1.0       3.0       1.0       1.0   \n",
      "...        ...       ...       ...       ...       ...       ...       ...   \n",
      "45688      4.0       0.0       3.0       1.0       2.0       1.0       1.0   \n",
      "45689      4.0       1.0       3.0       1.0       2.0       1.0       1.0   \n",
      "45690      1.0       0.0       4.0       1.0       3.0       1.0       1.0   \n",
      "45691      4.0       0.0       4.0       1.0       1.0       1.0       1.0   \n",
      "45692      4.0       2.0       3.0       1.0       3.0       1.0       1.0   \n",
      "45693      4.0       0.0       2.0       1.0       1.0       1.0       1.0   \n",
      "45694      4.0       2.0       4.0       1.0       3.0       1.0       1.0   \n",
      "45695      4.0       3.0       6.0       1.0       4.0       1.0       1.0   \n",
      "45696      4.0       0.0       3.0       1.0       1.0       1.0       1.0   \n",
      "45697      4.0       0.0       3.0       1.0       1.0       1.0       2.0   \n",
      "45698      4.0       0.0       4.0       1.0       1.0       1.0       1.0   \n",
      "45699      1.0       0.0       4.0       1.0       3.0       1.0       1.0   \n",
      "45700      1.0       0.0       3.0       1.0       2.0       1.0       1.0   \n",
      "45701      4.0       0.0       4.0       1.0       1.0       1.0       1.0   \n",
      "45702      4.0       3.0       5.0       1.0       4.0       1.0       1.0   \n",
      "45703      1.0       0.0       4.0       1.0       3.0       1.0       1.0   \n",
      "45704      4.0       3.0       6.0       1.0       4.0       1.0       1.0   \n",
      "45705      4.0       1.0       2.0       1.0       2.0       1.0       1.0   \n",
      "45706      4.0       0.0       3.0       1.0       1.0       1.0       2.0   \n",
      "45707      4.0       2.0       4.0       1.0       3.0       1.0       1.0   \n",
      "45708      1.0       0.0       6.0       1.0       4.0       1.0       1.0   \n",
      "45709      2.0       0.0       3.0       1.0       3.0       1.0       1.0   \n",
      "45710      4.0       1.0       2.0       1.0       2.0       1.0       1.0   \n",
      "45711      1.0       0.0       3.0       1.0       2.0       1.0       1.0   \n",
      "45712      4.0       2.0       4.0       1.0       3.0       1.0       1.0   \n",
      "45713      4.0       1.0       3.0       1.0       2.0       1.0       1.0   \n",
      "45714      4.0       0.0       3.0       1.0       1.0       1.0       2.0   \n",
      "45715      4.0       0.0       6.0       1.0       4.0       1.0       2.0   \n",
      "45716      4.0       0.0       1.0       1.0       1.0       1.0       1.0   \n",
      "45717      4.0       0.0       4.0       1.0       1.0       1.0       1.0   \n",
      "\n",
      "       IIHH65_2  PRXRETRY  PRXYDATA    ...     TOOLONG  TROUBUND  PDEN10  \\\n",
      "0           1.0      99.0      99.0    ...         1.0       2.0     1.0   \n",
      "1           1.0      99.0      99.0    ...         2.0       2.0     2.0   \n",
      "2           1.0      99.0      99.0    ...         2.0       2.0     2.0   \n",
      "3           1.0      99.0      99.0    ...         2.0       2.0     1.0   \n",
      "4           1.0      99.0       1.0    ...         2.0       2.0     2.0   \n",
      "5           1.0      99.0      99.0    ...         2.0       2.0     2.0   \n",
      "6           1.0      99.0      99.0    ...         2.0       2.0     2.0   \n",
      "7           1.0      99.0      99.0    ...         2.0       2.0     2.0   \n",
      "8           1.0      99.0      99.0    ...         2.0       2.0     2.0   \n",
      "9           1.0      99.0      99.0    ...         2.0       2.0     1.0   \n",
      "10          1.0      99.0      99.0    ...        98.0      98.0     2.0   \n",
      "11          1.0      99.0       1.0    ...         2.0       2.0     1.0   \n",
      "12          1.0      99.0      99.0    ...         2.0       2.0     2.0   \n",
      "13          1.0      99.0       1.0    ...         2.0       2.0     1.0   \n",
      "14          1.0      99.0       1.0    ...         2.0       2.0     1.0   \n",
      "15          1.0      99.0      99.0    ...         2.0       2.0     1.0   \n",
      "16          1.0      99.0      99.0    ...         2.0       2.0     2.0   \n",
      "17          1.0      99.0      99.0    ...         2.0       2.0     3.0   \n",
      "18          1.0      99.0      99.0    ...         2.0       2.0     2.0   \n",
      "19          1.0      99.0       1.0    ...         2.0       2.0     2.0   \n",
      "20          1.0      99.0       1.0    ...         2.0       2.0     2.0   \n",
      "21          1.0      99.0      99.0    ...         2.0       2.0     2.0   \n",
      "22          1.0      99.0       1.0    ...         2.0       1.0     1.0   \n",
      "23          1.0      99.0      99.0    ...         2.0       2.0     2.0   \n",
      "24          1.0      99.0      99.0    ...         2.0       2.0     2.0   \n",
      "25          1.0      99.0       1.0    ...         2.0       2.0     1.0   \n",
      "26          3.0      99.0      99.0    ...         2.0       2.0     2.0   \n",
      "27          1.0      99.0      99.0    ...         2.0       2.0     2.0   \n",
      "28          1.0      99.0       1.0    ...         2.0       2.0     2.0   \n",
      "29          1.0      99.0       1.0    ...         2.0       2.0     2.0   \n",
      "...         ...       ...       ...    ...         ...       ...     ...   \n",
      "45688       1.0      99.0      99.0    ...         2.0       2.0     2.0   \n",
      "45689       1.0      99.0      99.0    ...         2.0       2.0     2.0   \n",
      "45690       1.0      99.0       1.0    ...         2.0       2.0     2.0   \n",
      "45691       1.0      99.0      99.0    ...         2.0       2.0     2.0   \n",
      "45692       1.0      99.0      99.0    ...         2.0       2.0     2.0   \n",
      "45693       1.0      99.0      99.0    ...         2.0       2.0     1.0   \n",
      "45694       1.0      99.0      99.0    ...         2.0       2.0     2.0   \n",
      "45695       1.0      99.0      99.0    ...         2.0       2.0     1.0   \n",
      "45696       1.0      99.0      99.0    ...         2.0       2.0     1.0   \n",
      "45697       1.0      99.0      99.0    ...         2.0       2.0     1.0   \n",
      "45698       1.0      99.0      99.0    ...         2.0       2.0     1.0   \n",
      "45699       1.0      99.0       1.0    ...         2.0       2.0     1.0   \n",
      "45700       1.0      99.0       1.0    ...         2.0       1.0     2.0   \n",
      "45701       1.0      99.0      99.0    ...         2.0       2.0     1.0   \n",
      "45702       1.0      99.0      99.0    ...         2.0       2.0     1.0   \n",
      "45703       1.0      99.0       1.0    ...         2.0       2.0     1.0   \n",
      "45704       1.0      99.0      99.0    ...         2.0       2.0     2.0   \n",
      "45705       1.0      99.0      99.0    ...         2.0       2.0     2.0   \n",
      "45706       1.0      99.0      99.0    ...         2.0       2.0     1.0   \n",
      "45707       1.0      99.0       1.0    ...         2.0       2.0     3.0   \n",
      "45708       1.0      99.0      99.0    ...         2.0       2.0     2.0   \n",
      "45709       1.0      99.0       1.0    ...         2.0       2.0     2.0   \n",
      "45710       1.0      99.0      99.0    ...         2.0       2.0     1.0   \n",
      "45711       1.0      99.0       1.0    ...         2.0       2.0     1.0   \n",
      "45712       1.0      99.0      99.0    ...         2.0       2.0     2.0   \n",
      "45713       1.0      99.0      99.0    ...         2.0       2.0     2.0   \n",
      "45714       1.0       2.0      99.0    ...         2.0       2.0     1.0   \n",
      "45715       1.0      99.0       1.0    ...         2.0       2.0     1.0   \n",
      "45716       1.0      99.0      99.0    ...         2.0       2.0     2.0   \n",
      "45717       1.0      99.0      99.0    ...         2.0       2.0     1.0   \n",
      "\n",
      "       COUTYP2  MAIIN102  AIIND102      ANALWT_C    VESTR  VEREP  Criminal  \n",
      "0          1.0       2.0       2.0   3884.805998  40026.0    1.0         0  \n",
      "1          3.0       2.0       2.0   1627.108106  40015.0    2.0         1  \n",
      "2          3.0       2.0       2.0   4344.957980  40024.0    1.0         0  \n",
      "3          1.0       2.0       2.0    792.521931  40027.0    1.0         0  \n",
      "4          2.0       2.0       2.0   1518.118526  40001.0    2.0         0  \n",
      "5          3.0       2.0       2.0   9129.229124  40035.0    2.0         0  \n",
      "6          2.0       2.0       2.0   6561.895497  40043.0    2.0         0  \n",
      "7          2.0       2.0       2.0   3341.718873  40006.0    2.0         0  \n",
      "8          1.0       2.0       2.0   3384.147888  40021.0    2.0         0  \n",
      "9          1.0       2.0       2.0   2636.943978  40006.0    1.0         0  \n",
      "10         3.0       2.0       2.0   3026.110863  40044.0    1.0         0  \n",
      "11         1.0       2.0       2.0   4196.225953  40025.0    2.0         0  \n",
      "12         2.0       2.0       2.0  20905.427440  40042.0    1.0         0  \n",
      "13         1.0       2.0       2.0   2671.376188  40035.0    2.0         0  \n",
      "14         1.0       2.0       2.0   1430.775669  40020.0    1.0         0  \n",
      "15         1.0       2.0       2.0   1041.374975  40004.0    2.0         0  \n",
      "16         2.0       2.0       2.0   5014.378391  40023.0    1.0         0  \n",
      "17         3.0       2.0       2.0   4757.271596  40033.0    1.0         0  \n",
      "18         2.0       2.0       2.0   2784.880401  40025.0    2.0         0  \n",
      "19         3.0       2.0       2.0    330.258076  40036.0    1.0         0  \n",
      "20         3.0       2.0       2.0   2398.833215  40028.0    2.0         0  \n",
      "21         2.0       2.0       2.0   4247.334140  40008.0    2.0         0  \n",
      "22         1.0       2.0       2.0   2432.035890  40007.0    2.0         0  \n",
      "23         3.0       2.0       2.0   9429.142633  40010.0    2.0         0  \n",
      "24         3.0       1.0       1.0    791.405193  40012.0    2.0         0  \n",
      "25         1.0       2.0       2.0    751.207301  40046.0    1.0         0  \n",
      "26         3.0       2.0       2.0   3327.695904  40042.0    2.0         0  \n",
      "27         2.0       1.0       1.0   7913.574798  40012.0    2.0         0  \n",
      "28         3.0       2.0       2.0    416.917733  40036.0    1.0         0  \n",
      "29         2.0       2.0       2.0    432.992914  40016.0    2.0         0  \n",
      "...        ...       ...       ...           ...      ...    ...       ...  \n",
      "45688      2.0       1.0       1.0    777.818127  40032.0    1.0         0  \n",
      "45689      2.0       2.0       2.0   3151.572267  40039.0    1.0         0  \n",
      "45690      3.0       2.0       2.0   1096.831803  40017.0    2.0         0  \n",
      "45691      2.0       2.0       2.0    423.457314  40013.0    1.0         0  \n",
      "45692      2.0       2.0       2.0    889.149627  40002.0    2.0         0  \n",
      "45693      1.0       2.0       2.0   1827.943610  40005.0    1.0         0  \n",
      "45694      2.0       2.0       2.0   1620.395136  40041.0    2.0         0  \n",
      "45695      1.0       2.0       2.0  13406.081270  40028.0    2.0         0  \n",
      "45696      1.0       2.0       2.0   6337.800897  40029.0    2.0         0  \n",
      "45697      1.0       2.0       2.0   2784.636409  40050.0    1.0         0  \n",
      "45698      1.0       2.0       2.0   8943.198244  40019.0    1.0         0  \n",
      "45699      1.0       2.0       2.0   1234.591124  40006.0    2.0         0  \n",
      "45700      2.0       2.0       2.0    316.479457  40010.0    1.0         0  \n",
      "45701      1.0       2.0       2.0   2980.588149  40010.0    1.0         0  \n",
      "45702      1.0       2.0       2.0   7102.143169  40049.0    1.0         0  \n",
      "45703      1.0       2.0       2.0   2973.000430  40019.0    1.0         0  \n",
      "45704      3.0       2.0       2.0    531.775773  40036.0    1.0         0  \n",
      "45705      2.0       2.0       2.0   1284.461723  40042.0    2.0         0  \n",
      "45706      1.0       2.0       2.0  26956.734140  40037.0    2.0         0  \n",
      "45707      3.0       2.0       2.0    325.704473  40004.0    1.0         0  \n",
      "45708      3.0       2.0       2.0   1966.301610  40001.0    1.0         0  \n",
      "45709      3.0       2.0       2.0    516.659176  40023.0    1.0         1  \n",
      "45710      1.0       2.0       2.0   7845.356253  40049.0    2.0         1  \n",
      "45711      1.0       2.0       2.0   4307.472836  40020.0    2.0         0  \n",
      "45712      2.0       2.0       2.0    682.483078  40048.0    1.0         0  \n",
      "45713      2.0       2.0       2.0  11212.106960  40011.0    1.0         0  \n",
      "45714      1.0       2.0       2.0   5733.239983  40035.0    2.0         0  \n",
      "45715      1.0       2.0       2.0   1490.027425  40040.0    1.0         0  \n",
      "45716      2.0       2.0       2.0   3847.137418  40050.0    1.0         0  \n",
      "45717      1.0       2.0       2.0  11357.793720  40018.0    2.0         0  \n",
      "\n",
      "[45293 rows x 71 columns]\n"
     ]
    }
   ],
   "source": [
    "df=df.drop(['PERID'],axis=1)\n",
    "print df"
   ]
  },
  {
   "cell_type": "code",
   "execution_count": 119,
   "metadata": {
    "collapsed": false
   },
   "outputs": [],
   "source": [
    "numcols=[]\n",
    "catcols=[]\n",
    "for g in df.columns:\n",
    "    if max(df[g])>=10:\n",
    "        numcols.append(g)\n",
    "    else:\n",
    "        catcols.append(g)"
   ]
  },
  {
   "cell_type": "code",
   "execution_count": 120,
   "metadata": {
    "collapsed": false
   },
   "outputs": [],
   "source": [
    "#deleting criminal from it\n",
    "del catcols[len(catcols)-1]"
   ]
  },
  {
   "cell_type": "code",
   "execution_count": 121,
   "metadata": {
    "collapsed": false
   },
   "outputs": [
    {
     "name": "stdout",
     "output_type": "stream",
     "text": [
      "['IFATHER', 'NRCH17_2', 'IRHHSIZ2', 'IIHHSIZ2', 'IRKI17_2', 'IIKI17_2', 'IRHH65_2', 'IIHH65_2', 'IRMCDCHP', 'IIMCDCHP', 'IRMEDICR', 'IIMEDICR', 'IRCHMPUS', 'IICHMPUS', 'IRPRVHLT', 'IIPRVHLT', 'IIOTHHLT', 'IRINSUR4', 'IIINSUR4', 'OTHINS', 'IRFAMSOC', 'IIFAMSOC', 'IRFAMSSI', 'IIFAMSSI', 'IRFSTAMP', 'IIFSTAMP', 'IRFAMPMT', 'IIFAMPMT', 'IRFAMSVC', 'IIFAMSVC', 'IIWELMOS', 'IRPINC3', 'IRFAMIN3', 'IIPINC3', 'IIFAMIN3', 'GOVTPROG', 'POVERTY3', 'PDEN10', 'COUTYP2', 'MAIIN102', 'AIIND102', 'VEREP'] \n",
      "['PRXRETRY', 'PRXYDATA', 'MEDICARE', 'CAIDCHIP', 'CHAMPUS', 'PRVHLTIN', 'GRPHLTIN', 'HLTINNOS', 'HLCNOTYR', 'HLCNOTMO', 'HLCLAST', 'HLLOSRSN', 'HLNVCOST', 'HLNVOFFR', 'HLNVREF', 'HLNVNEED', 'HLNVSOR', 'IROTHHLT', 'HLCALLFG', 'HLCALL99', 'ANYHLTI2', 'CELLNOTCL', 'CELLWRKNG', 'IRWELMOS', 'TOOLONG', 'TROUBUND', 'ANALWT_C', 'VESTR']\n"
     ]
    }
   ],
   "source": [
    "#converting to float,int in train\n",
    "for g in df.columns:\n",
    "    if g in numcols:\n",
    "        df[g]=df[g].astype('float64')\n",
    "    else:\n",
    "        df[g]=df[g].astype('int64')\n",
    "        \n",
    "print catcols,\"\\n\",numcols        "
   ]
  },
  {
   "cell_type": "markdown",
   "metadata": {
    "collapsed": false
   },
   "source": [
    "#adding dummies\n",
    "for m in catcols:\n",
    "    dummies = pandas.get_dummies(df[m],prefix=m)\n",
    "    df = df.join(dummies)\n",
    "    del df[m]"
   ]
  },
  {
   "cell_type": "code",
   "execution_count": 122,
   "metadata": {
    "collapsed": false
   },
   "outputs": [
    {
     "name": "stdout",
     "output_type": "stream",
     "text": [
      "(11430, 71)\n"
     ]
    }
   ],
   "source": [
    "testdf=pandas.read_csv('criminal_test.csv')\n",
    "print testdf.shape\n",
    "\n",
    "ids=testdf['PERID'].values"
   ]
  },
  {
   "cell_type": "code",
   "execution_count": 123,
   "metadata": {
    "collapsed": false
   },
   "outputs": [],
   "source": [
    "#del imp[len(imp)-1]\n",
    "testdf=testdf.drop(['PERID'],axis=1)\n",
    "#testdf=testdf[imp]"
   ]
  },
  {
   "cell_type": "code",
   "execution_count": 124,
   "metadata": {
    "collapsed": false
   },
   "outputs": [
    {
     "name": "stdout",
     "output_type": "stream",
     "text": [
      "(11430, 70)\n"
     ]
    }
   ],
   "source": [
    "print testdf.shape\n",
    "\n",
    "for g in testdf.columns:\n",
    "    if g in catcols:\n",
    "        testdf[g]=testdf[g].replace([-1],testdf[g].value_counts().index[0])\n",
    "    else:\n",
    "        testdf[g]=testdf[g].replace([-1],sum(testdf[g])/len(testdf[g]))\n",
    "        "
   ]
  },
  {
   "cell_type": "markdown",
   "metadata": {
    "collapsed": false
   },
   "source": [
    "for m in catcols:\n",
    "    dummies = pandas.get_dummies(testdf[m],prefix=m)\n",
    "    testdf = testdf.join(dummies)\n",
    "    del testdf[m]"
   ]
  },
  {
   "cell_type": "code",
   "execution_count": 125,
   "metadata": {
    "collapsed": false
   },
   "outputs": [
    {
     "name": "stdout",
     "output_type": "stream",
     "text": [
      "set([])\n"
     ]
    }
   ],
   "source": [
    "k=set(testdf.columns)-set(df.columns)\n",
    "print k"
   ]
  },
  {
   "cell_type": "code",
   "execution_count": 126,
   "metadata": {
    "collapsed": true
   },
   "outputs": [],
   "source": [
    "for g in testdf.columns:\n",
    "    if g in numcols:\n",
    "        testdf[g]=testdf[g].astype('float64')\n",
    "    else:\n",
    "        testdf[g]=testdf[g].astype('float64')"
   ]
  },
  {
   "cell_type": "code",
   "execution_count": 127,
   "metadata": {
    "collapsed": true
   },
   "outputs": [],
   "source": [
    "#standardize rest of them\n",
    "stddf   = df.copy()\n",
    "stddf[numcols] = stddf[numcols].apply(lambda x: (x-x.mean())/(x.max()-x.min()))"
   ]
  },
  {
   "cell_type": "code",
   "execution_count": 128,
   "metadata": {
    "collapsed": false
   },
   "outputs": [],
   "source": [
    "teststd   = testdf.copy()\n",
    "teststd[numcols] = teststd[numcols].apply(lambda x: (x-x.mean())/(x.max()-x.min()))"
   ]
  },
  {
   "cell_type": "code",
   "execution_count": 129,
   "metadata": {
    "collapsed": false
   },
   "outputs": [
    {
     "name": "stdout",
     "output_type": "stream",
     "text": [
      "[0 1 0 0 0] <type 'numpy.ndarray'>\n"
     ]
    }
   ],
   "source": [
    "labels=df['Criminal'].values\n",
    "print labels[:5],type(labels)"
   ]
  },
  {
   "cell_type": "code",
   "execution_count": 130,
   "metadata": {
    "collapsed": false
   },
   "outputs": [
    {
     "name": "stdout",
     "output_type": "stream",
     "text": [
      "[[  4.00000000e+00   2.00000000e+00   4.00000000e+00 ...,   3.88480600e+03\n",
      "    4.00260000e+04   1.00000000e+00]\n",
      " [  4.00000000e+00   1.00000000e+00   3.00000000e+00 ...,   1.62710811e+03\n",
      "    4.00150000e+04   2.00000000e+00]\n",
      " [  4.00000000e+00   1.00000000e+00   2.00000000e+00 ...,   4.34495798e+03\n",
      "    4.00240000e+04   1.00000000e+00]\n",
      " ..., \n",
      " [  4.00000000e+00   0.00000000e+00   6.00000000e+00 ...,   1.49002742e+03\n",
      "    4.00400000e+04   1.00000000e+00]\n",
      " [  4.00000000e+00   0.00000000e+00   1.00000000e+00 ...,   3.84713742e+03\n",
      "    4.00500000e+04   1.00000000e+00]\n",
      " [  4.00000000e+00   0.00000000e+00   4.00000000e+00 ...,   1.13577937e+04\n",
      "    4.00180000e+04   2.00000000e+00]]\n"
     ]
    }
   ],
   "source": [
    "data=df.drop(['Criminal'],axis=1).values\n",
    "print data\n",
    "\n",
    "\n",
    "#pca.fit(data)"
   ]
  },
  {
   "cell_type": "code",
   "execution_count": 131,
   "metadata": {
    "collapsed": false
   },
   "outputs": [
    {
     "name": "stdout",
     "output_type": "stream",
     "text": [
      "x_train: (36234, 70)\n",
      "y_train: (36234,)\n",
      "\n",
      "x_test: (9059, 70)\n",
      "y_test: (9059,)\n"
     ]
    }
   ],
   "source": [
    "from sklearn.model_selection import train_test_split\n",
    "\n",
    "x_train,x_test,y_train,y_test=train_test_split(data,labels, test_size=0.20, random_state=42)\n",
    "print \"x_train:\",x_train.shape\n",
    "print \"y_train:\",y_train.shape\n",
    "print\n",
    "print \"x_test:\",x_test.shape\n",
    "print \"y_test:\",y_test.shape"
   ]
  },
  {
   "cell_type": "code",
   "execution_count": 132,
   "metadata": {
    "collapsed": false
   },
   "outputs": [
    {
     "name": "stdout",
     "output_type": "stream",
     "text": [
      "0.949552930787\n",
      "[  3.39012111e+00   1.25473127e+00   3.83556574e+00   0.00000000e+00\n",
      "   2.12182688e+00   5.93075198e-02   1.24076778e+00   6.26924340e-02\n",
      "   2.00045236e-01   2.68328705e+00   1.47589501e+00   9.58122618e-01\n",
      "   2.29497848e-01   2.79468202e+00   5.27807921e+00   2.93167312e-01\n",
      "   6.05363745e-01   1.00864024e+00   6.92480020e-02   5.26230880e-02\n",
      "   1.60503083e-02   2.38838423e-02   1.76576208e-02   4.03478390e-02\n",
      "   3.14465878e-02   1.04459670e+00   1.31745827e-01   1.43288760e+00\n",
      "   3.43968781e-02   2.13112891e-01   3.67555955e-02   3.47308988e+00\n",
      "   4.55807911e-01   2.14458963e-01   1.57450591e-01   1.17601807e-02\n",
      "   2.12366649e-02   3.19375522e-02   9.41334508e-02   3.31801189e-02\n",
      "   6.36227472e-01   1.57983889e+00   5.04267267e-01   1.25443771e+00\n",
      "   1.39410851e-01   5.28855243e-01   2.01346377e-01   7.85191218e-01\n",
      "   9.47346210e-02   1.78344406e-01   1.19205771e-01   2.07673349e-01\n",
      "   7.61927488e-02   3.63884970e-01   3.55762553e-01   6.02656337e+00\n",
      "   1.59973100e+01   3.95291588e-01   9.41382121e-01   1.02370361e+00\n",
      "   5.48209677e+00   8.68199794e-01   8.19675595e-01   1.83917627e+00\n",
      "   2.24646510e+00   1.67830675e-01   1.69085782e-01   1.10415231e+01\n",
      "   9.02953890e+00   1.79718272e+00]\n"
     ]
    }
   ],
   "source": [
    "from sklearn.ensemble import RandomForestClassifier\n",
    "rclf = RandomForestClassifier(n_estimators=78)\n",
    "rclf.fit(x_train, y_train)\n",
    "print rclf.score(x_test,y_test)\n",
    "\n",
    "print rclf.feature_importances_*100"
   ]
  },
  {
   "cell_type": "code",
   "execution_count": 133,
   "metadata": {
    "collapsed": false
   },
   "outputs": [],
   "source": [
    "k=testdf.values\n",
    "#pca.fit(k)\n",
    "pr=rclf.predict(k)"
   ]
  },
  {
   "cell_type": "code",
   "execution_count": 134,
   "metadata": {
    "collapsed": false
   },
   "outputs": [
    {
     "name": "stdout",
     "output_type": "stream",
     "text": [
      "Writing complete\n"
     ]
    }
   ],
   "source": [
    "import csv\n",
    "datae=[] \n",
    "datae.append(['PERID','Criminal'])\n",
    "for i in range(len(pr)):\n",
    "    datae.append([ids[i],pr[i]])\n",
    "\n",
    "myFile = open('outputrf_allnorm+pca.csv', 'w')\n",
    "with myFile:\n",
    "    writer = csv.writer(myFile)\n",
    "    writer.writerows(datae)\n",
    "#print datae     \n",
    "print \"Writing complete\""
   ]
  }
 ],
 "metadata": {
  "kernelspec": {
   "display_name": "Python 2",
   "language": "python",
   "name": "python2"
  },
  "language_info": {
   "codemirror_mode": {
    "name": "ipython",
    "version": 2
   },
   "file_extension": ".py",
   "mimetype": "text/x-python",
   "name": "python",
   "nbconvert_exporter": "python",
   "pygments_lexer": "ipython2",
   "version": "2.7.13"
  }
 },
 "nbformat": 4,
 "nbformat_minor": 2
}
