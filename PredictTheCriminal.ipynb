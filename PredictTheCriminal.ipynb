{
 "cells": [
  {
   "cell_type": "code",
   "execution_count": 53,
   "metadata": {
    "collapsed": true
   },
   "outputs": [],
   "source": [
    "import pandas\n",
    "import numpy\n",
    "import matplotlib.pyplot as plt\n"
   ]
  },
  {
   "cell_type": "code",
   "execution_count": 54,
   "metadata": {
    "collapsed": false
   },
   "outputs": [
    {
     "name": "stdout",
     "output_type": "stream",
     "text": [
      "       PERID  IFATHER  NRCH17_2  IRHHSIZ2  IIHHSIZ2  IRKI17_2  IIKI17_2  \\\n",
      "0   25095143      4.0       2.0       4.0       1.0       3.0       1.0   \n",
      "1   13005143      4.0       1.0       3.0       1.0       2.0       1.0   \n",
      "2   67415143      4.0       1.0       2.0       1.0       2.0       1.0   \n",
      "3   70925143      4.0       0.0       2.0       1.0       1.0       1.0   \n",
      "4   75235143      1.0       0.0       6.0       1.0       4.0       1.0   \n",
      "5   47745143      4.0       0.0       2.0       1.0       1.0       1.0   \n",
      "6   33145143      4.0       3.0       6.0       1.0       4.0       1.0   \n",
      "7   63765143      4.0       2.0       4.0       1.0       3.0       1.0   \n",
      "8   57796143      4.0       1.0       3.0       1.0       2.0       1.0   \n",
      "9   66416143      4.0       0.0       1.0       1.0       1.0       1.0   \n",
      "10  51916143      4.0       0.0       1.0       1.0       1.0       1.0   \n",
      "11  40016143      4.0       0.0       4.0       1.0       3.0       1.0   \n",
      "12  99116143      4.0       0.0       2.0       1.0       1.0       1.0   \n",
      "13  85326143      1.0       0.0       3.0       1.0       2.0       1.0   \n",
      "14  63336143      1.0       0.0       5.0       1.0       4.0       1.0   \n",
      "\n",
      "    IRHH65_2  IIHH65_2  PRXRETRY    ...     TOOLONG  TROUBUND  PDEN10  \\\n",
      "0        1.0       1.0      99.0    ...         1.0       2.0     1.0   \n",
      "1        1.0       1.0      99.0    ...         2.0       2.0     2.0   \n",
      "2        1.0       1.0      99.0    ...         2.0       2.0     2.0   \n",
      "3        1.0       1.0      99.0    ...         2.0       2.0     1.0   \n",
      "4        1.0       1.0      99.0    ...         2.0       2.0     2.0   \n",
      "5        1.0       1.0      99.0    ...         2.0       2.0     2.0   \n",
      "6        1.0       1.0      99.0    ...         2.0       2.0     2.0   \n",
      "7        1.0       1.0      99.0    ...         2.0       2.0     2.0   \n",
      "8        1.0       1.0      99.0    ...         2.0       2.0     2.0   \n",
      "9        2.0       1.0      99.0    ...         2.0       2.0     1.0   \n",
      "10       1.0       1.0      99.0    ...        98.0      98.0     2.0   \n",
      "11       1.0       1.0      99.0    ...         2.0       2.0     1.0   \n",
      "12       2.0       1.0      99.0    ...         2.0       2.0     2.0   \n",
      "13       1.0       1.0      99.0    ...         2.0       2.0     1.0   \n",
      "14       1.0       1.0      99.0    ...         2.0       2.0     1.0   \n",
      "\n",
      "    COUTYP2  MAIIN102  AIIND102      ANALWT_C    VESTR  VEREP  Criminal  \n",
      "0       1.0       2.0       2.0   3884.805998  40026.0    1.0         0  \n",
      "1       3.0       2.0       2.0   1627.108106  40015.0    2.0         1  \n",
      "2       3.0       2.0       2.0   4344.957980  40024.0    1.0         0  \n",
      "3       1.0       2.0       2.0    792.521931  40027.0    1.0         0  \n",
      "4       2.0       2.0       2.0   1518.118526  40001.0    2.0         0  \n",
      "5       3.0       2.0       2.0   9129.229124  40035.0    2.0         0  \n",
      "6       2.0       2.0       2.0   6561.895497  40043.0    2.0         0  \n",
      "7       2.0       2.0       2.0   3341.718873  40006.0    2.0         0  \n",
      "8       1.0       2.0       2.0   3384.147888  40021.0    2.0         0  \n",
      "9       1.0       2.0       2.0   2636.943978  40006.0    1.0         0  \n",
      "10      3.0       2.0       2.0   3026.110863  40044.0    1.0         0  \n",
      "11      1.0       2.0       2.0   4196.225953  40025.0    2.0         0  \n",
      "12      2.0       2.0       2.0  20905.427440  40042.0    1.0         0  \n",
      "13      1.0       2.0       2.0   2671.376188  40035.0    2.0         0  \n",
      "14      1.0       2.0       2.0   1430.775669  40020.0    1.0         0  \n",
      "\n",
      "[15 rows x 72 columns]\n"
     ]
    }
   ],
   "source": [
    "df=pandas.read_csv('criminal_train_pre.csv')\n",
    "print df[:15]\n",
    "df=df.dropna()"
   ]
  },
  {
   "cell_type": "code",
   "execution_count": 55,
   "metadata": {
    "collapsed": false
   },
   "outputs": [],
   "source": [
    "#df.dtypes\n",
    "df=df.drop(['PERID'],axis=1)"
   ]
  },
  {
   "cell_type": "markdown",
   "metadata": {},
   "source": []
  },
  {
   "cell_type": "code",
   "execution_count": 56,
   "metadata": {
    "collapsed": false
   },
   "outputs": [],
   "source": [
    "numcols=[]\n",
    "catcols=[]\n",
    "for g in df.columns:\n",
    "    if max(df[g])>=10:\n",
    "        numcols.append(g)\n",
    "    else:\n",
    "        catcols.append(g)"
   ]
  },
  {
   "cell_type": "code",
   "execution_count": 57,
   "metadata": {
    "collapsed": false
   },
   "outputs": [
    {
     "name": "stdout",
     "output_type": "stream",
     "text": [
      "['PRXRETRY', 'PRXYDATA', 'MEDICARE', 'CAIDCHIP', 'CHAMPUS', 'PRVHLTIN', 'GRPHLTIN', 'HLTINNOS', 'HLCNOTYR', 'HLCNOTMO', 'HLCLAST', 'HLLOSRSN', 'HLNVCOST', 'HLNVOFFR', 'HLNVREF', 'HLNVNEED', 'HLNVSOR', 'IROTHHLT', 'HLCALLFG', 'HLCALL99', 'ANYHLTI2', 'CELLNOTCL', 'CELLWRKNG', 'IRWELMOS', 'TOOLONG', 'TROUBUND', 'ANALWT_C', 'VESTR']\n",
      "['IFATHER', 'NRCH17_2', 'IRHHSIZ2', 'IIHHSIZ2', 'IRKI17_2', 'IIKI17_2', 'IRHH65_2', 'IIHH65_2', 'IRMCDCHP', 'IIMCDCHP', 'IRMEDICR', 'IIMEDICR', 'IRCHMPUS', 'IICHMPUS', 'IRPRVHLT', 'IIPRVHLT', 'IIOTHHLT', 'IRINSUR4', 'IIINSUR4', 'OTHINS', 'IRFAMSOC', 'IIFAMSOC', 'IRFAMSSI', 'IIFAMSSI', 'IRFSTAMP', 'IIFSTAMP', 'IRFAMPMT', 'IIFAMPMT', 'IRFAMSVC', 'IIFAMSVC', 'IIWELMOS', 'IRPINC3', 'IRFAMIN3', 'IIPINC3', 'IIFAMIN3', 'GOVTPROG', 'POVERTY3', 'PDEN10', 'COUTYP2', 'MAIIN102', 'AIIND102', 'VEREP', 'Criminal']\n"
     ]
    }
   ],
   "source": [
    "print numcols\n",
    "print catcols\n",
    "\n",
    "\n",
    "del catcols[len(catcols)-1]"
   ]
  },
  {
   "cell_type": "code",
   "execution_count": null,
   "metadata": {
    "collapsed": true
   },
   "outputs": [],
   "source": []
  },
  {
   "cell_type": "code",
   "execution_count": 58,
   "metadata": {
    "collapsed": false
   },
   "outputs": [
    {
     "name": "stdout",
     "output_type": "stream",
     "text": [
      "['IFATHER', 'NRCH17_2', 'IRHHSIZ2', 'IIHHSIZ2', 'IRKI17_2', 'IIKI17_2', 'IRHH65_2', 'IIHH65_2', 'IRMCDCHP', 'IIMCDCHP', 'IRMEDICR', 'IIMEDICR', 'IRCHMPUS', 'IICHMPUS', 'IRPRVHLT', 'IIPRVHLT', 'IIOTHHLT', 'IRINSUR4', 'IIINSUR4', 'OTHINS', 'IRFAMSOC', 'IIFAMSOC', 'IRFAMSSI', 'IIFAMSSI', 'IRFSTAMP', 'IIFSTAMP', 'IRFAMPMT', 'IIFAMPMT', 'IRFAMSVC', 'IIFAMSVC', 'IIWELMOS', 'IRPINC3', 'IRFAMIN3', 'IIPINC3', 'IIFAMIN3', 'GOVTPROG', 'POVERTY3', 'PDEN10', 'COUTYP2', 'MAIIN102', 'AIIND102', 'VEREP']\n"
     ]
    }
   ],
   "source": [
    "print catcols"
   ]
  },
  {
   "cell_type": "code",
   "execution_count": 59,
   "metadata": {
    "collapsed": true
   },
   "outputs": [],
   "source": [
    "for g in df.columns:\n",
    "    if g in numcols:\n",
    "        df[g]=df[g].astype('float64')\n",
    "    else:\n",
    "        df[g]=df[g].astype('int64')"
   ]
  },
  {
   "cell_type": "code",
   "execution_count": 60,
   "metadata": {
    "collapsed": false
   },
   "outputs": [],
   "source": [
    "#print df.dtypes\n",
    "\n",
    "\n",
    "for m in catcols:\n",
    "    dummies = pandas.get_dummies(df[m],prefix=m)\n",
    "    df = df.join(dummies)\n",
    "    del df[m]"
   ]
  },
  {
   "cell_type": "code",
   "execution_count": 61,
   "metadata": {
    "collapsed": true
   },
   "outputs": [],
   "source": [
    "#standardize rest of them\n",
    "stddf   = df.copy()\n",
    "stddf[numcols] = stddf[numcols].apply(lambda x: (x-x.mean())/x.std())"
   ]
  },
  {
   "cell_type": "code",
   "execution_count": 62,
   "metadata": {
    "collapsed": false
   },
   "outputs": [
    {
     "name": "stdout",
     "output_type": "stream",
     "text": [
      "[0 1 0 0 0] <type 'numpy.ndarray'>\n"
     ]
    }
   ],
   "source": [
    "labels=df['Criminal'].values\n",
    "print labels[:5],type(labels)"
   ]
  },
  {
   "cell_type": "code",
   "execution_count": 65,
   "metadata": {
    "collapsed": false
   },
   "outputs": [
    {
     "name": "stdout",
     "output_type": "stream",
     "text": [
      "[[ 99.  99.   2. ...,   1.   1.   0.]\n",
      " [ 99.  99.   2. ...,   1.   0.   1.]\n",
      " [ 99.  99.   2. ...,   1.   1.   0.]\n",
      " ..., \n",
      " [ 99.   1.   2. ...,   1.   1.   0.]\n",
      " [ 99.  99.   2. ...,   1.   1.   0.]\n",
      " [ 99.  99.   2. ...,   1.   0.   1.]]\n"
     ]
    }
   ],
   "source": [
    "data=df.drop(['Criminal'],axis=1).values\n",
    "print data"
   ]
  },
  {
   "cell_type": "code",
   "execution_count": 68,
   "metadata": {
    "collapsed": false
   },
   "outputs": [
    {
     "name": "stdout",
     "output_type": "stream",
     "text": [
      "x_train: (33969, 138)\n",
      "y_train: (33969,)\n",
      "\n",
      "x_test: (11324, 138)\n",
      "y_test: (11324,)\n"
     ]
    }
   ],
   "source": [
    "from sklearn.model_selection import train_test_split\n",
    "\n",
    "x_train,x_test,y_train,y_test=train_test_split(data,labels, test_size=0.25, random_state=42)\n",
    "print \"x_train:\",x_train.shape\n",
    "print \"y_train:\",y_train.shape\n",
    "print\n",
    "print \"x_test:\",x_test.shape\n",
    "print \"y_test:\",y_test.shape"
   ]
  },
  {
   "cell_type": "code",
   "execution_count": 69,
   "metadata": {
    "collapsed": false
   },
   "outputs": [
    {
     "name": "stdout",
     "output_type": "stream",
     "text": [
      "SVM: 92.5114800424 %\n"
     ]
    }
   ],
   "source": [
    "from sklearn import svm\n",
    "clf = svm.SVC(gamma=0.001, C=5)\n",
    "clf.fit(x_train,y_train)\n",
    "print \"SVM:\",clf.score(x_test,y_test)*100,\"%\""
   ]
  },
  {
   "cell_type": "code",
   "execution_count": 90,
   "metadata": {
    "collapsed": false
   },
   "outputs": [
    {
     "name": "stdout",
     "output_type": "stream",
     "text": [
      "       PERID  IFATHER  NRCH17_2  IRHHSIZ2  IIHHSIZ2  IRKI17_2  IIKI17_2  \\\n",
      "0   66583679        4         0         4         1         2         1   \n",
      "1   35494679        4         0         4         1         1         1   \n",
      "2   79424679        2         0         3         1         2         1   \n",
      "3   11744679        4         0         6         1         2         1   \n",
      "4   31554679        1         0         4         1         3         1   \n",
      "5   83164679        1         0         6         1         4         1   \n",
      "6   58474679        4         0         2         1         1         1   \n",
      "7   40695779        4         0         1         1         1         1   \n",
      "8   39315779        4         0         2         1         1         1   \n",
      "9   58415779        4         0         2         1         1         1   \n",
      "10  23535779        4         0         2         1         1         1   \n",
      "11  67275779        4         1         3         1         2         1   \n",
      "12  93485779        2         0         6         1         4         1   \n",
      "13  29546779        4         0         2         1         1         1   \n",
      "14  97556779        2         0         3         1         2         1   \n",
      "\n",
      "    IRHH65_2  IIHH65_2  PRXRETRY  ...    POVERTY3  TOOLONG  TROUBUND  PDEN10  \\\n",
      "0          1         1        99  ...           2        2         2       1   \n",
      "1          1         1        99  ...           3        2         2       1   \n",
      "2          1         1        99  ...           1        2         2       2   \n",
      "3          1         1        99  ...           3        2         2       1   \n",
      "4          1         1        99  ...           3        2         1       1   \n",
      "5          1         1        99  ...           1        2         2       1   \n",
      "6          2         1        99  ...           2        1         2       1   \n",
      "7          1         1        99  ...           1        1         2       1   \n",
      "8          1         1        99  ...           3        2         2       2   \n",
      "9          3         1        99  ...           3        2         2       2   \n",
      "10         1         1        99  ...           3        2         2       1   \n",
      "11         1         1        99  ...           3        2         1       2   \n",
      "12         1         1        99  ...           2        2         2       2   \n",
      "13         1         1        99  ...           3        2         1       2   \n",
      "14         1         1        99  ...           2        2         2       1   \n",
      "\n",
      "    COUTYP2  MAIIN102  AIIND102      ANALWT_C  VESTR  VEREP  \n",
      "0         1         2         2  16346.795400  40020      1  \n",
      "1         1         2         2   3008.863906  40044      2  \n",
      "2         2         2         2    266.952503  40040      2  \n",
      "3         1         2         2   5386.928199  40017      1  \n",
      "4         1         2         2    173.489895  40017      1  \n",
      "5         1         2         2    562.268242  40035      2  \n",
      "6         1         2         2  24857.283570  40040      2  \n",
      "7         1         2         2   6219.428316  40015      2  \n",
      "8         3         2         2   5256.401262  40022      1  \n",
      "9         3         2         2   8081.240889  40023      1  \n",
      "10        1         2         2   3431.856903  40044      1  \n",
      "11        2         2         2   3759.142319  40044      2  \n",
      "12        2         2         2    974.948772  40019      2  \n",
      "13        2         2         2   1914.468602  40006      2  \n",
      "14        1         2         2    281.176495  40042      1  \n",
      "\n",
      "[15 rows x 71 columns]\n",
      "(11430, 71)\n"
     ]
    }
   ],
   "source": [
    "testdf=pandas.read_csv('criminal_test.csv')\n",
    "print testdf[:15]\n",
    "print testdf.shape"
   ]
  },
  {
   "cell_type": "code",
   "execution_count": 84,
   "metadata": {
    "collapsed": true
   },
   "outputs": [],
   "source": [
    "ids=testdf['PERID'].values"
   ]
  },
  {
   "cell_type": "code",
   "execution_count": 85,
   "metadata": {
    "collapsed": true
   },
   "outputs": [],
   "source": [
    "testdf=testdf.drop(['PERID'],axis=1)"
   ]
  },
  {
   "cell_type": "code",
   "execution_count": 91,
   "metadata": {
    "collapsed": false
   },
   "outputs": [
    {
     "name": "stdout",
     "output_type": "stream",
     "text": [
      "(11430, 71)\n"
     ]
    }
   ],
   "source": [
    "print testdf.shape"
   ]
  },
  {
   "cell_type": "code",
   "execution_count": 86,
   "metadata": {
    "collapsed": false
   },
   "outputs": [],
   "source": [
    "for m in catcols:\n",
    "    dummies = pandas.get_dummies(testdf[m],prefix=m)\n",
    "    testdf = testdf.join(dummies)\n",
    "    del testdf[m]"
   ]
  },
  {
   "cell_type": "code",
   "execution_count": 87,
   "metadata": {
    "collapsed": false
   },
   "outputs": [
    {
     "name": "stdout",
     "output_type": "stream",
     "text": [
      "Index([u'PRXRETRY', u'PRXYDATA', u'MEDICARE', u'CAIDCHIP', u'CHAMPUS',\n",
      "       u'PRVHLTIN', u'GRPHLTIN', u'HLTINNOS', u'HLCNOTYR', u'HLCNOTMO',\n",
      "       ...\n",
      "       u'PDEN10_3', u'COUTYP2_1', u'COUTYP2_2', u'COUTYP2_3', u'MAIIN102_1',\n",
      "       u'MAIIN102_2', u'AIIND102_1', u'AIIND102_2', u'VEREP_1', u'VEREP_2'],\n",
      "      dtype='object', length=141)\n"
     ]
    }
   ],
   "source": [
    "print testdf.columns\n",
    "for g in testdf.columns:\n",
    "    if g in numcols:\n",
    "        testdf[g]=testdf[g].astype('float64')\n",
    "    else:\n",
    "        testdf[g]=testdf[g].astype('int64')"
   ]
  },
  {
   "cell_type": "code",
   "execution_count": 88,
   "metadata": {
    "collapsed": false
   },
   "outputs": [],
   "source": [
    "teststd   = testdf.copy()\n",
    "teststd[numcols] = teststd[numcols].apply(lambda x: (x-x.mean())/x.std())"
   ]
  },
  {
   "cell_type": "code",
   "execution_count": 94,
   "metadata": {
    "collapsed": false
   },
   "outputs": [
    {
     "name": "stdout",
     "output_type": "stream",
     "text": [
      "set(['POVERTY3_-1', 'IIHHSIZ2_3', 'NRCH17_2_-1'])\n"
     ]
    }
   ],
   "source": [
    "print set(teststd.columns)-set(stddf.columns)"
   ]
  },
  {
   "cell_type": "code",
   "execution_count": 89,
   "metadata": {
    "collapsed": false
   },
   "outputs": [
    {
     "ename": "ValueError",
     "evalue": "X.shape[1] = 141 should be equal to 138, the number of features at training time",
     "output_type": "error",
     "traceback": [
      "\u001b[0;31m---------------------------------------------------------------------------\u001b[0m",
      "\u001b[0;31mValueError\u001b[0m                                Traceback (most recent call last)",
      "\u001b[0;32m<ipython-input-89-27f9a4cac8fe>\u001b[0m in \u001b[0;36m<module>\u001b[0;34m()\u001b[0m\n\u001b[0;32m----> 1\u001b[0;31m \u001b[0mk\u001b[0m\u001b[0;34m=\u001b[0m\u001b[0mclf\u001b[0m\u001b[0;34m.\u001b[0m\u001b[0mpredict\u001b[0m\u001b[0;34m(\u001b[0m\u001b[0mteststd\u001b[0m\u001b[0;34m.\u001b[0m\u001b[0mvalues\u001b[0m\u001b[0;34m)\u001b[0m\u001b[0;34m\u001b[0m\u001b[0m\n\u001b[0m",
      "\u001b[0;32m/home/siddharth/miniconda2/lib/python2.7/site-packages/sklearn/svm/base.pyc\u001b[0m in \u001b[0;36mpredict\u001b[0;34m(self, X)\u001b[0m\n\u001b[1;32m    571\u001b[0m             \u001b[0mClass\u001b[0m \u001b[0mlabels\u001b[0m \u001b[0;32mfor\u001b[0m \u001b[0msamples\u001b[0m \u001b[0;32min\u001b[0m \u001b[0mX\u001b[0m\u001b[0;34m.\u001b[0m\u001b[0;34m\u001b[0m\u001b[0m\n\u001b[1;32m    572\u001b[0m         \"\"\"\n\u001b[0;32m--> 573\u001b[0;31m         \u001b[0my\u001b[0m \u001b[0;34m=\u001b[0m \u001b[0msuper\u001b[0m\u001b[0;34m(\u001b[0m\u001b[0mBaseSVC\u001b[0m\u001b[0;34m,\u001b[0m \u001b[0mself\u001b[0m\u001b[0;34m)\u001b[0m\u001b[0;34m.\u001b[0m\u001b[0mpredict\u001b[0m\u001b[0;34m(\u001b[0m\u001b[0mX\u001b[0m\u001b[0;34m)\u001b[0m\u001b[0;34m\u001b[0m\u001b[0m\n\u001b[0m\u001b[1;32m    574\u001b[0m         \u001b[0;32mreturn\u001b[0m \u001b[0mself\u001b[0m\u001b[0;34m.\u001b[0m\u001b[0mclasses_\u001b[0m\u001b[0;34m.\u001b[0m\u001b[0mtake\u001b[0m\u001b[0;34m(\u001b[0m\u001b[0mnp\u001b[0m\u001b[0;34m.\u001b[0m\u001b[0masarray\u001b[0m\u001b[0;34m(\u001b[0m\u001b[0my\u001b[0m\u001b[0;34m,\u001b[0m \u001b[0mdtype\u001b[0m\u001b[0;34m=\u001b[0m\u001b[0mnp\u001b[0m\u001b[0;34m.\u001b[0m\u001b[0mintp\u001b[0m\u001b[0;34m)\u001b[0m\u001b[0;34m)\u001b[0m\u001b[0;34m\u001b[0m\u001b[0m\n\u001b[1;32m    575\u001b[0m \u001b[0;34m\u001b[0m\u001b[0m\n",
      "\u001b[0;32m/home/siddharth/miniconda2/lib/python2.7/site-packages/sklearn/svm/base.pyc\u001b[0m in \u001b[0;36mpredict\u001b[0;34m(self, X)\u001b[0m\n\u001b[1;32m    308\u001b[0m         \u001b[0my_pred\u001b[0m \u001b[0;34m:\u001b[0m \u001b[0marray\u001b[0m\u001b[0;34m,\u001b[0m \u001b[0mshape\u001b[0m \u001b[0;34m(\u001b[0m\u001b[0mn_samples\u001b[0m\u001b[0;34m,\u001b[0m\u001b[0;34m)\u001b[0m\u001b[0;34m\u001b[0m\u001b[0m\n\u001b[1;32m    309\u001b[0m         \"\"\"\n\u001b[0;32m--> 310\u001b[0;31m         \u001b[0mX\u001b[0m \u001b[0;34m=\u001b[0m \u001b[0mself\u001b[0m\u001b[0;34m.\u001b[0m\u001b[0m_validate_for_predict\u001b[0m\u001b[0;34m(\u001b[0m\u001b[0mX\u001b[0m\u001b[0;34m)\u001b[0m\u001b[0;34m\u001b[0m\u001b[0m\n\u001b[0m\u001b[1;32m    311\u001b[0m         \u001b[0mpredict\u001b[0m \u001b[0;34m=\u001b[0m \u001b[0mself\u001b[0m\u001b[0;34m.\u001b[0m\u001b[0m_sparse_predict\u001b[0m \u001b[0;32mif\u001b[0m \u001b[0mself\u001b[0m\u001b[0;34m.\u001b[0m\u001b[0m_sparse\u001b[0m \u001b[0;32melse\u001b[0m \u001b[0mself\u001b[0m\u001b[0;34m.\u001b[0m\u001b[0m_dense_predict\u001b[0m\u001b[0;34m\u001b[0m\u001b[0m\n\u001b[1;32m    312\u001b[0m         \u001b[0;32mreturn\u001b[0m \u001b[0mpredict\u001b[0m\u001b[0;34m(\u001b[0m\u001b[0mX\u001b[0m\u001b[0;34m)\u001b[0m\u001b[0;34m\u001b[0m\u001b[0m\n",
      "\u001b[0;32m/home/siddharth/miniconda2/lib/python2.7/site-packages/sklearn/svm/base.pyc\u001b[0m in \u001b[0;36m_validate_for_predict\u001b[0;34m(self, X)\u001b[0m\n\u001b[1;32m    477\u001b[0m             raise ValueError(\"X.shape[1] = %d should be equal to %d, \"\n\u001b[1;32m    478\u001b[0m                              \u001b[0;34m\"the number of features at training time\"\u001b[0m \u001b[0;34m%\u001b[0m\u001b[0;34m\u001b[0m\u001b[0m\n\u001b[0;32m--> 479\u001b[0;31m                              (n_features, self.shape_fit_[1]))\n\u001b[0m\u001b[1;32m    480\u001b[0m         \u001b[0;32mreturn\u001b[0m \u001b[0mX\u001b[0m\u001b[0;34m\u001b[0m\u001b[0m\n\u001b[1;32m    481\u001b[0m \u001b[0;34m\u001b[0m\u001b[0m\n",
      "\u001b[0;31mValueError\u001b[0m: X.shape[1] = 141 should be equal to 138, the number of features at training time"
     ]
    }
   ],
   "source": [
    "k=clf.predict(teststd.values)"
   ]
  }
 ],
 "metadata": {
  "kernelspec": {
   "display_name": "Python 2",
   "language": "python",
   "name": "python2"
  },
  "language_info": {
   "codemirror_mode": {
    "name": "ipython",
    "version": 2
   },
   "file_extension": ".py",
   "mimetype": "text/x-python",
   "name": "python",
   "nbconvert_exporter": "python",
   "pygments_lexer": "ipython2",
   "version": "2.7.13"
  }
 },
 "nbformat": 4,
 "nbformat_minor": 2
}
